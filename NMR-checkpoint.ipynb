{
 "cells": [
  {
   "cell_type": "code",
   "execution_count": 39,
   "metadata": {},
   "outputs": [],
   "source": [
    "#!/usr/bin/env python\n",
    "import math\n",
    "import numpy as np\n",
    "import matplotlib.pyplot as plt\n",
    "import matplotlib as mlp\n",
    "import random\n",
    "from optparse import OptionParser\n",
    "import scipy.io as io\n",
    "import cmath\n",
    "\n",
    "\n",
    "# initial settings\n",
    "mlp.rcParams['axes.linewidth'] = 2\n",
    "\n",
    "#---------------------------------------------------------------------------------------------------\n",
    "def readDataFromFile(file_name): \n",
    "        \n",
    "    # Dictionary with data\n",
    "    peaks = []\n",
    "\n",
    "    with open(file_name,\"r\") as file:\n",
    "        data = io.loadmat(file_name)['peaks']\n",
    "    # go through each row\n",
    "    #for line in data.split(\"\\n\"):\n",
    "    #    f = line.split('\\t')\n",
    "    #    if len(f)>0 and len(line)>0 and line[0] != '#':    # protect against not well formatted lines\n",
    "    #        max_t = float(f[3])/1000\n",
    "    #        deadtime += float(f[9])/1000000\n",
    "    #        if f[-2] == '1' and float(f[6]) > SiPMcut:\n",
    "    #            Hits[i] = []\n",
    "    #            Hits[i].append(float(f[3]))\n",
    "    #            Hits[i].append(float(f[6]))\n",
    "    #            Hits[i].append(float(f[9]))\n",
    "    #            i+=1\n",
    "    #Livetime = max_t-deadtime\n",
    "    #rate = len(Hits)/Livetime\n",
    "    #error = ((len(Hits))**(1/2))/Livetime\n",
    "    return data"
   ]
  },
  {
   "cell_type": "code",
   "execution_count": 84,
   "metadata": {},
   "outputs": [
    {
     "name": "stdout",
     "output_type": "stream",
     "text": [
      "(23467.00092255953+0j)\n",
      "23467.00092255953\n"
     ]
    },
    {
     "data": {
      "text/plain": [
       "[<matplotlib.lines.Line2D at 0x2abe09cb550>]"
      ]
     },
     "execution_count": 84,
     "metadata": {},
     "output_type": "execute_result"
    },
    {
     "data": {
      "image/png": "[encoded data removed]",
      "text/plain": [
       "<Figure size 432x288 with 1 Axes>"
      ]
     },
     "metadata": {},
     "output_type": "display_data"
    }
   ],
   "source": [
    "hpeaks = readDataFromFile('H_t90_peaks.mat')\n",
    "hpeaks_p1 = []\n",
    "print(np.conj(hpeaks[0][0])*hpeaks[0][0]/abs(hpeaks[0][0]))\n",
    "print(abs(hpeaks[0][0]))\n",
    "h_ts = np.linspace(1,25,16)\n",
    "#print(h_ts)\n",
    "for p in range(len(hpeaks)):\n",
    "    #hpeaks_p1.append(abs(hpeaks[p][0])*np.sign(hpeaks[p][0].real))\n",
    "    hpeaks_p1.append((hpeaks[p][0].real))\n",
    "    #plt.plot(p, hpeaks[p][0].real, '*')\n",
    "plt.plot(h_ts, hpeaks_p1, '*')\n",
    "#plt.plot(h_ts, hpeaks_p1, '*')"
   ]
  },
  {
   "cell_type": "code",
   "execution_count": 43,
   "metadata": {},
   "outputs": [],
   "source": [
    "def sin_decay(ts , a, phi, omega, b):\n",
    "    return a*np.multiply(np.exp(-b*ts), np.sin(omega*ts + phi))"
   ]
  },
  {
   "cell_type": "code",
   "execution_count": 44,
   "metadata": {},
   "outputs": [],
   "source": [
    "def sin_dif(params, x, data, eps):\n",
    "    ia=params[\"a\"]\n",
    "    iphi=params[\"phi\"]\n",
    "    iomega=params[\"omega\"]\n",
    "    ib=params[\"b\"]\n",
    "    val=sin_decay(x, ia, iphi, iomega, ib)\n",
    "    return (val-data)/eps"
   ]
  },
  {
   "cell_type": "code",
   "execution_count": 85,
   "metadata": {},
   "outputs": [
    {
     "name": "stdout",
     "output_type": "stream",
     "text": [
      "[[Fit Statistics]]\n",
      "    # fitting method   = leastsq\n",
      "    # function evals   = 37\n",
      "    # data points      = 16\n",
      "    # variables        = 4\n",
      "    chi-square         = 6811190.66\n",
      "    reduced chi-square = 567599.221\n",
      "    Akaike info crit   = 215.383820\n",
      "    Bayesian info crit = 218.474175\n",
      "[[Variables]]\n",
      "    a:      162523.998 +/- 1074.05272 (0.66%) (init = 150000)\n",
      "    phi:   -0.01640911 +/- 0.00449456 (27.39%) (init = 0)\n",
      "    omega:  0.16023067 +/- 3.0442e-04 (0.19%) (init = 0.1)\n",
      "    b:      0.01793658 +/- 5.3535e-04 (2.98%) (init = 0.1)\n",
      "[[Correlations]] (unreported correlations are < 0.100)\n",
      "    C(a, b)       =  0.942\n",
      "    C(phi, omega) = -0.888\n",
      "    C(a, phi)     = -0.687\n",
      "    C(phi, b)     = -0.659\n",
      "    C(a, omega)   =  0.648\n",
      "    C(omega, b)   =  0.640\n"
     ]
    },
    {
     "data": {
      "image/png": "[encoded data removed]",
      "text/plain": [
       "<Figure size 432x288 with 1 Axes>"
      ]
     },
     "metadata": {},
     "output_type": "display_data"
    },
    {
     "name": "stdout",
     "output_type": "stream",
     "text": [
      "\n"
     ]
    }
   ],
   "source": [
    "ts = np.linspace(1,25,16)\n",
    "t2s = np.linspace(1,25,100000)\n",
    "import lmfit\n",
    "from lmfit import Model, minimize, fit_report, Parameters\n",
    "\n",
    "model = lmfit.Model(sin_decay)\n",
    "\n",
    "p = model.make_params()\n",
    "\n",
    "p['a'].set(150000)     # Mass guess\n",
    "p['phi'].set(0)  # By construction we put the merger in the center\n",
    "p['omega'].set(0.1)#, min = 0.85705712 , max = 0.85705714)     # Mass guess\n",
    "p['b'].set(0.1)#, min = 0.02704969, max = 0.02704971)  # By construction we put the merger in the center\n",
    "errs = np.full(16, 1)\n",
    "unc = np.array(errs)\n",
    "out = minimize(sin_dif, params=p, args=(ts, hpeaks_p1, unc))\n",
    "\n",
    "print(fit_report(out))\n",
    "\n",
    "plt.plot(t2s, model.eval(params=out.params,ts=t2s),'r',label='best fit')\n",
    "\n",
    "plt.plot(ts, hpeaks_p1, '*')\n",
    "#plt.ylim(0,0.025)\n",
    "plt.show()\n",
    "print()"
   ]
  },
  {
   "cell_type": "code",
   "execution_count": 86,
   "metadata": {},
   "outputs": [
    {
     "name": "stdout",
     "output_type": "stream",
     "text": [
      "34208\n",
      "9.210002100021\n"
     ]
    }
   ],
   "source": [
    "model_vals = model.eval(params=out.params,ts=t2s)\n",
    "\n",
    "index_max = max(range(len(model_vals)), key=model_vals.__getitem__)\n",
    "\n",
    "print(index_max)\n",
    "print(t2s[index_max])"
   ]
  }
 ],
 "metadata": {
  "kernelspec": {
   "display_name": "Python 3",
   "language": "python",
   "name": "python3"
  },
  "language_info": {
   "codemirror_mode": {
    "name": "ipython",
    "version": 3
   },
   "file_extension": ".py",
   "mimetype": "text/x-python",
   "name": "python",
   "nbconvert_exporter": "python",
   "pygments_lexer": "ipython3",
   "version": "3.6.5"
  }
 },
 "nbformat": 4,
 "nbformat_minor": 2
}
